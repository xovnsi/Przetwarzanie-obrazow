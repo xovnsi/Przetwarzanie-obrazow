{
 "cells": [
  {
   "cell_type": "markdown",
   "metadata": {
    "pycharm": {
     "name": "#%% md\n"
    },
    "id": "GyJVpdDDcDvQ"
   },
   "source": [
    "# Histogram obrazu. Wyrównywanie histogramu."
   ]
  },
  {
   "cell_type": "markdown",
   "source": [
    "## Cel ćwiczenia\n",
    "\n",
    "- Zapoznanie z pojęciem histogramu obrazu (w odcieniach szarości i kolorze).\n",
    "- Zapoznanie z metodami modyfikacji histogramu (rozciąganie, wyrównywanie, dopasowywanie)."
   ],
   "metadata": {
    "collapsed": false,
    "pycharm": {
     "name": "#%% md\n"
    },
    "id": "NLeSSymzcDvS"
   }
  },
  {
   "cell_type": "markdown",
   "source": [
    "## Histogram\n",
    "\n",
    "- Histogramem obrazu nazywamy wykres słupkowy zdefiniowany następującymi zależnościami:<br>\n",
    "\\begin{equation}\n",
    "h(i) = \\sum_{x=0}^{N-1} \\sum_{y=0}^{M-1} p(i,(x,y))\n",
    "\\end{equation}<br>\n",
    "gdzie:<br>\n",
    "\\begin{equation}\n",
    "p(i) =  \\left\\{\n",
    "  \\begin{array}{l l}\n",
    "    1 & \\quad \\text{gdy} f(x,y) = i\\\\\n",
    "    0 & \\quad \\text{gdy} f(x,y) \\ne i\n",
    "  \\end{array} \\right.\n",
    "\\end{equation}\n",
    "\n",
    "- Inaczej mówiąc, histogram zawiera informacje na temat tego ile pikseli o danym poziomie jasności występuje na obrazie (w przypadku obrazu w odcieniach szarości). Określa się to także rozkładem empirycznym cechy.\n",
    "\n",
    "- Często wykorzystuje się tzw. znormalizowaną postać histogramu  – wszystkie wartości $h(i)$ są dzielone przez liczbę pikseli na obrazie.\n",
    "Otrzymana w ten sposób wielkość to gęstość prawdopodobieństwa wystąpienia na obrazie pikseli o odcieniu $i$.\n",
    "\n",
    "- Histogram można zdefiniować również dla obrazów kolorowych.\n",
    "Otrzymujemy wtedy 3 histogramy – po jednym dla danej składowej: R,G,B (lub HSV, YCbCr, itp.) lub histogram trójwymiarowy.\n",
    "\n",
    "- Histogram jest bardzo użyteczny w przetwarzaniu i analizie obrazów.\n",
    "Wykorzystywany jest przy binaryzacji (szerzej na jednym z kolejnych laboratoriów) oraz do oceny jakości (dynamiki, kontrastu) obrazu.\n",
    "W idealnym przypadku wszystkie poziomy jasności w obrazie powinny być wykorzystane (i to najlepiej w miarę jednolicie)  – obrazowo mówiąc histogram powinien rozciągać się od 0  – 255 (obraz w skali szarości).\n",
    "\n",
    "- W przypadku gdy  wykorzystujemy jedynie fragment dostępnego zakresu (wąski histogram)  lub histogram nie jest jednolity (występują dominujące grupy pikseli) obraz ma dość słaby kontrast.\n",
    "Cechę tę można poprawić stosując tzw. rozciąganie albo wyrównywanie histogramu (ang. *histogram equalization*).</div>"
   ],
   "metadata": {
    "collapsed": false,
    "pycharm": {
     "name": "#%% md\n"
    },
    "id": "-vb7gT4WcDvT"
   }
  },
  {
   "cell_type": "markdown",
   "source": [
    "## Histogram dla obrazów w odcieniach szarości\n",
    "\n",
    "1. Zaimportuj potrzebne biblioteki: *OpenCV*, *pyplot* z *matplotlib* i *numpy*.\n",
    "        import cv2\n",
    "        from matplotlib import pyplot as plt\n",
    "        import numpy as np\n",
    "2. Wczytaj obrazy *lenaX.bmp* w skali szarości. *X* jest numerem wczytywanego obrazu (1 - 4).\n",
    "        I = cv2.imread('lenaX.bmp', cv2.IMREAD_GRAYSCALE)\n",
    "3. Oblicz histogram wczytanego obrazu wykorzystując funkcję `cv2.calcHist`.\n",
    "    - Pierwszym argumentem jest obraz, dla którego obliczony zostanie histogram.\n",
    "    Należy go przekazać w nawiasie kwadratowym.\n",
    "    - Drugim argumentem jest numer kanału, dla którego ma zostać obliczony histogram.\n",
    "    Również powinien być przekazany w nawiasie kwadratowym.\n",
    "    - Trzeci argument oznacza maskę, czyli obszar, dla którego ma zostać wyznaczony histogram.\n",
    "    Aby obliczyć dla całego obrazu należy przekazać *None*.\n",
    "    - Czwartym argumentem jest rozmiar histogramu (liczba przedziałów).\n",
    "    Argument powinien być w nawiasie kwadratowym. Dla pełnej skali należy przekazać wartość *256*.\n",
    "    - Ostatnim argumentem jest zakres wartości. Dla obrazów typu *uint8* powinien on wynosić *[0, 256]*.\n",
    "    - Funkcja zwraca obliczony histogram.\n",
    "4. Wyświetl wczytane obrazy i ich histogramy w jednym oknie. Użyj `plt.subplot()` w celu stworzenia siatki wykresów.\n",
    "        figLena, axsLena = plt.subplots(2, 4)\n",
    "Rozmiar utworzonego okna można zmienić wykorzystując instrukcję (uwaga w calach -  1 cal to 2.54cm):\n",
    "        figLena.set_size_inches(20, 10)\n",
    "Przykładowe wyświetlenie obrazu:\n",
    "        axsLena[0, 0].imshow(I1, 'gray', vmin=0, vmax=256)\n",
    "        axsLena[0, 0].axis('off')\n",
    "Przykładowe wyświetlenie histogramu:\n",
    "        axsLena[1, 0].plot(H1)\n",
    "        axsLena[1, 0].grid()\n",
    "5. Przeanalizuj (dokładnie) związek histogramu z jasnością i ostrością obrazu (tu rozumianą jako subiektywne odczucie)."
   ],
   "metadata": {
    "collapsed": false,
    "pycharm": {
     "name": "#%% md\n"
    },
    "id": "lFY1GGOecDvU"
   }
  },
  {
   "cell_type": "code",
   "execution_count": 1,
   "outputs": [],
   "source": [
    "def plot_image_with_histograms(image_name):\n",
    "    figH, axsH = plt.subplots(1, 2)\n",
    "    figH.set_size_inches(16, 4)\n",
    "    axsH[0].imshow(image_name)\n",
    "    axsH[0].axis('off')\n",
    "\n",
    "    for color in range(0,3):\n",
    "        histogram = cv2.calcHist([image_name], [color], None, [256], [0,256])\n",
    "        axsH[1].plot(histogram)"
   ],
   "metadata": {
    "collapsed": false,
    "pycharm": {
     "name": "#%%\n"
    }
   }
  },
  {
   "cell_type": "code",
   "execution_count": 2,
   "outputs": [],
   "source": [
    "def plot_image_and_histogram(image_name, col='else'):\n",
    "    figH, axsH = plt.subplots(1, 2)\n",
    "    figH.set_size_inches(16, 4)\n",
    "    if col == 'gray':\n",
    "        axsH[0].imshow(image_name, cmap=col)\n",
    "    else:\n",
    "        axsH[0].imshow(image_name)\n",
    "    axsH[0].axis('off')\n",
    "\n",
    "    histogram = cv2.calcHist([image_name], [0], None, [256], [0,256])\n",
    "    axsH[1].plot(histogram)"
   ],
   "metadata": {
    "collapsed": false,
    "pycharm": {
     "name": "#%%\n"
    }
   }
  },
  {
   "cell_type": "code",
   "execution_count": 3,
   "metadata": {
    "pycharm": {
     "name": "#%% Zadanie 1 - wyświetlanie\n"
    },
    "id": "KweWeS_UcDvV"
   },
   "outputs": [
    {
     "name": "stderr",
     "output_type": "stream",
     "text": [
      "\n",
      "KeyboardInterrupt\n",
      "\n"
     ]
    }
   ],
   "source": [
    "import cv2\n",
    "import os\n",
    "import requests\n",
    "from matplotlib import pyplot as plt\n",
    "import numpy as np\n",
    "\n",
    "url = 'https://raw.githubusercontent.com/vision-agh/poc_sw/master/03_Histogram/'\n",
    "\n",
    "fileName = 'lena1.bmp'\n",
    "if not os.path.exists(fileName) :\n",
    "    r = requests.get(url + fileName, allow_redirects=True)\n",
    "    open(fileName, 'wb').write(r.content)\n",
    "Lena1 = cv2.imread(fileName, cv2.IMREAD_GRAYSCALE)\n",
    "\n",
    "fileName = 'lena2.bmp'\n",
    "if not os.path.exists(fileName) :\n",
    "    r = requests.get(url + fileName, allow_redirects=True)\n",
    "    open(fileName, 'wb').write(r.content)\n",
    "Lena2 = cv2.imread(fileName, cv2.IMREAD_GRAYSCALE)\n",
    "\n",
    "fileName = 'lena3.bmp'\n",
    "if not os.path.exists(fileName) :\n",
    "    r = requests.get(url + fileName, allow_redirects=True)\n",
    "    open(fileName, 'wb').write(r.content)\n",
    "Lena3 = cv2.imread(fileName, cv2.IMREAD_GRAYSCALE)\n",
    "\n",
    "fileName = 'lena4.bmp'\n",
    "if not os.path.exists(fileName) :\n",
    "    r = requests.get(url + fileName, allow_redirects=True)\n",
    "    open(fileName, 'wb').write(r.content)\n",
    "Lena4 = cv2.imread(fileName, cv2.IMREAD_GRAYSCALE)"
   ]
  },
  {
   "cell_type": "code",
   "execution_count": null,
   "outputs": [],
   "source": [
    "H1 = cv2.calcHist([Lena1], [0], None, [256],[0, 256])\n",
    "H2 = cv2.calcHist([Lena2], [0], None, [256],[0, 256])\n",
    "H3 = cv2.calcHist([Lena3], [0], None, [256],[0, 256])\n",
    "H4 = cv2.calcHist([Lena4], [0], None, [256],[0, 256])\n",
    "\n",
    "figLena, axsLena = plt.subplots(2, 4)\n",
    "figLena.set_size_inches(20, 10)\n",
    "Lena = [Lena1, Lena2, Lena3, Lena4]\n",
    "H = [H1, H2, H3, H4]\n",
    "\n",
    "for i in range(0,4):\n",
    "    axsLena[0, i].imshow(Lena[i], cmap=\"gray\", vmin=0, vmax=256)\n",
    "    axsLena[0, i].axis(\"off\")\n",
    "for i in range(0, 4):\n",
    "    axsLena[1, i].plot(H[i])\n",
    "    axsLena[1, i].grid()"
   ],
   "metadata": {
    "collapsed": false,
    "pycharm": {
     "name": "#%%\n"
    }
   }
  },
  {
   "cell_type": "markdown",
   "source": [
    "## Rozciąganie histogramu\n",
    "\n",
    "Najprostszą metodą poprawienia jakości obrazu jest tzw. rozciągnięcie histogramu.\n",
    "Polega na przeskalowaniu wartości pikseli w obrazie tak, aby wykorzystać cały dostępny zakres [0-255] (oczywiście w przypadku obrazów w odcieniach szarości w reprezentacji 8-bitowej).\n",
    "\n",
    "1. Wczytaj obraz *hist1.bmp* w skali szarości.\n",
    "Oblicz i wyświetl histogram rozpatrywanego obrazu (na wspólnym rysunku z obrazem).\n",
    "Zwróć uwagę na ilość widocznych szczegółów.\n",
    "2. Rozciągnij histogram obrazu. W tym celu można wykorzystać funkcję `cv2.normalize`.\n",
    "    - Pierwszym argumentem funkcji jest obraz poddawany operacji.\n",
    "    - Drugim argumentem jest tablica do której zostanie wpisany wynik.\n",
    "    Należy ją najpierw zainicjalizować.\n",
    "    Najlepiej zrobić to funkcją `np.zeros`, której pierwszym argumentem jest rozmiar obrazu (`I.shape`), a drugim typ danych (`uint8`).\n",
    "    Można również przekazać `None`, a wynik przypisać do nowej zmiennej.\n",
    "    - Trzecim argumentem jest minimalna wartość po normalizacji.\n",
    "    - Czwartym argumentem jest wartość maksymalna po normalizacji.\n",
    "    - Ostatnim argumentem jest typ wykorzystanej normy (uogólnienie pojęcia długości wektora).\n",
    "    Należy wykorzystać normę `cv2.NORM_MINMAX`.\n",
    "3. Wyświetl obraz oryginalny, po wykonanej operacji oraz ich histogramy.\n",
    "4. Czy ilość \"widocznych\" szczegółów uległa zmianie?"
   ],
   "metadata": {
    "collapsed": false,
    "pycharm": {
     "name": "#%% md\n"
    },
    "id": "yvrZfMJZcDvV"
   }
  },
  {
   "cell_type": "code",
   "execution_count": null,
   "outputs": [],
   "source": [
    "fileName = 'hist1.bmp'\n",
    "if not os.path.exists(fileName) :\n",
    "    r = requests.get(url + fileName, allow_redirects=True)\n",
    "    open(fileName, 'wb').write(r.content)\n",
    "\n",
    "fileName = 'hist2.bmp'\n",
    "if not os.path.exists(fileName) :\n",
    "    r = requests.get(url + fileName, allow_redirects=True)\n",
    "    open(fileName, 'wb').write(r.content)\n",
    "hist2 = cv2.imread('hist2.bmp', 0)\n",
    "\n",
    "fileName = 'hist3.bmp'\n",
    "if not os.path.exists(fileName) :\n",
    "    r = requests.get(url + fileName, allow_redirects=True)\n",
    "    open(fileName, 'wb').write(r.content)\n",
    "hist3 = cv2.imread('hist3.bmp', 0)\n",
    "\n",
    "fileName = 'hist4.bmp'\n",
    "if not os.path.exists(fileName) :\n",
    "    r = requests.get(url + fileName, allow_redirects=True)\n",
    "    open(fileName, 'wb').write(r.content)\n",
    "hist4 = cv2.imread('hist4.bmp', 0)"
   ],
   "metadata": {
    "pycharm": {
     "name": "#%% Zadanie 2 - rozciąganie\n"
    },
    "id": "9dmix38-cDvW"
   }
  },
  {
   "cell_type": "code",
   "execution_count": null,
   "outputs": [],
   "source": [
    "hist1 = cv2.imread('hist1.bmp')\n",
    "H1 = cv2.calcHist([hist1], [0], None, [256], [0,256])\n",
    "\n",
    "norm1 = cv2.normalize(hist1, None, 0, 255, cv2.NORM_MINMAX)\n",
    "H_norm1 = cv2.calcHist([norm1], [0], None, [256], [0,256])\n",
    "\n",
    "img = [hist1, norm1]\n",
    "hist = [H1, H_norm1]\n",
    "\n",
    "for i in range(0, 2):\n",
    "    plot_image_and_histogram(img[i])"
   ],
   "metadata": {
    "collapsed": false,
    "pycharm": {
     "name": "#%%\n"
    }
   }
  },
  {
   "cell_type": "markdown",
   "source": [
    "## Wyrównywanie histogramu\n",
    "\n",
    "<div style=\"text-align: justify; font-size:14px\">\n",
    "Bardziej zaawansowaną metodą jest tzw. wyrównywanie histogramu (ang. *histogram equalization – HE*).\n",
    "Idea jest następująca: z punktu widzenia lepszego wykorzystania dostępnych poziomów jasności pożądane jest rozciągnięcie \"szczytów\" histogramu, a~skompresowanie \"dolin\" tak, aby taka sama liczba pikseli reprezentowana była przez każdy z dostępnych poziomów jasności (a przynjamniej przybliżona).\n",
    "Warto zwrócić uwagę, że takie przekształcenie powoduje częściową utratę informacji o szczegółach w obszarach \"dolin\".\n",
    "Inaczej mówiąc, dążymy do sytuacji, aby histogram był względnie jednostajny.\n",
    "Operacją, która pozwala wykonać wyrównywanie histogramu, jest przekształcenie LUT z funkcją przejścia w postaci histogramu skumulowanego danego obrazu.</div><br>\n",
    "\n",
    "<div style=\"text-align: justify;font-size:14px\">\n",
    "Histogram skumulowany to funkcja obliczona na podstawie histogramu.\n",
    "Jej pierwszy element to liczba pikseli o odcieniu $0$.\n",
    "Kolejne wartości to liczba pikseli o odcieniach od $0$ do $n$.</div>\n",
    "\n",
    "\\begin{equation}\n",
    "C(n) = \\sum_{i=0}^{n} h(i)\n",
    "\\end{equation}\n",
    "\n",
    "<div style=\"text-align: justify;font-size:14px\">\n",
    "Jeżeli histogram jest w postaci znormalizowanej (gęstość rozkładu prawdopodobieństwa) to histogram skumulowany stanowi dystrybuantę rozkładu prawdopodobieństwa.</div><br>\n",
    "\n",
    "\n",
    "\n",
    "\n",
    "\n",
    "\n",
    "\n"
   ],
   "metadata": {
    "collapsed": false,
    "pycharm": {
     "name": "#%% md\n"
    },
    "id": "qQYQVoOEcDvW"
   }
  },
  {
   "cell_type": "markdown",
   "source": [
    "1. Wyznacz histogram skumulowany dla obrazu *hist1.bmp*.\n",
    "W tym celu wykorzystaj metodę `cumsum` dla histogramu wczytanego obrazu.\n",
    "Nie przyjmuje ona żadnych argumentów, a zwraca skumulowane wartości tablicy, dla której została użyta.\n",
    "Histogram należy wyliczyć dla **obrazka wejściowego**, a nie dla wyniku rozciągania.\n",
    "2. Histogram skumulowany wyświetl razem z histogramem zwykłym na jednym wykresie (nie obok siebie).\n",
    "Na potrzeby wyświetlenia przeskaluj histogram skumulowany tak, by miał taką samą wartość maksymalną jak zwykły histogram.\n",
    "W tym celu wykorzystaj metodę `max`.\n",
    "3. Wyświetlenie kilku linii na jednym wykresie może być zrealizowane w następujący sposób:\n",
    "        figHistCum, axsHistCum = plt.subplots()\n",
    "\n",
    "        axsHistCum.plot(HHist)\n",
    "        axsHistCum.plot(CHistNorm)\n",
    "        axsHistCum.grid()"
   ],
   "metadata": {
    "collapsed": false,
    "pycharm": {
     "name": "#%% md\n"
    }
   }
  },
  {
   "cell_type": "code",
   "execution_count": null,
   "outputs": [],
   "source": [
    "cdf = H1.cumsum()\n",
    "cdf_normalized = cdf * H1.max() / cdf.max()\n",
    "figHistCum, axsHistCum = plt.subplots()\n",
    "axsHistCum.plot(cdf_normalized)\n",
    "axsHistCum.plot(H1)\n",
    "axsHistCum.grid()"
   ],
   "metadata": {
    "pycharm": {
     "name": "#%% Zadanie 3 - histogram skumulowany\n"
    },
    "id": "Hthp3Q0WcDvX"
   }
  },
  {
   "cell_type": "markdown",
   "source": [
    "4. Teraz zaimplementuj klasyczny algorytm wyrównywania histogramu.\n",
    "Wykorzystać należy obliczony histogram skumulowany.\n",
    "Należy go przeskalować w taki sposób aby na jego podstawie zrealizować przekształcenie LUT, czyli do zakresu 0 - 255.\n",
    "\n",
    ">Uwaga. Opisany algorytm wyrównywania histogramu jest wersją uproszczoną.\n",
    ">W wersji pełnej należy podczas skalowania tablicy przekodowań LUT pominąć elementy równe *0*.\n",
    ">\n",
    ">W tym celu należy wykorzystać funkcje `np.ma.masked_equal` i `np.ma.filled`.\n",
    ">Pierwsza służy do ukrywania elementów tablicy, natomiast druga zamienia ukryte elementy na podaną wartość.\n",
    ">W tym przypadku elementem ukrywanym i wpisywaną wartością byłoby *0*."
   ],
   "metadata": {
    "collapsed": false,
    "pycharm": {
     "name": "#%% md\n"
    }
   }
  },
  {
   "cell_type": "markdown",
   "source": [
    "5. Na kolejnym rysunku wyświetl obrazek po przekształceniu, jego histogram oraz histogram skumulowany.\n",
    "Co szczególnego można powiedzieć o jego histogramie i histogramie skumulowanym?"
   ],
   "metadata": {
    "collapsed": false,
    "pycharm": {
     "name": "#%% md\n"
    }
   }
  },
  {
   "cell_type": "code",
   "execution_count": null,
   "outputs": [],
   "source": [
    "hist1 = cv2.imread('hist1.bmp',cv2.IMREAD_GRAYSCALE)\n",
    "masked = np.ma.masked_equal(cdf_normalized,0)\n",
    "masked = (masked - masked.min())*255/(masked.max() - masked.min())\n",
    "res = np.ma.filled(masked,0).astype('uint8')\n",
    "res_normalized = res[hist1]"
   ],
   "metadata": {
    "collapsed": false,
    "pycharm": {
     "name": "#%%\n"
    }
   }
  },
  {
   "cell_type": "code",
   "execution_count": null,
   "outputs": [],
   "source": [
    "H_res = cv2.calcHist([res_normalized], [0], None, [256], [0,256])\n",
    "cdf = H_res.cumsum()\n",
    "cdf_normalized = cdf * float(H_res.max()) / cdf.max()\n",
    "fig = plt.figure(figsize=(16,4))\n",
    "fig.add_subplot(1,2,1)\n",
    "plt.imshow(res_normalized, cmap=\"gray\")\n",
    "fig.add_subplot(1,2,2)\n",
    "plt.plot(H_res), plt.plot(cdf_normalized)"
   ],
   "metadata": {
    "collapsed": false,
    "pycharm": {
     "name": "#%% Zadanie 3 - wyrównywanie OpenCV\n"
    }
   }
  },
  {
   "cell_type": "markdown",
   "source": [
    "6. W bibliotece OpenCV dostępna jest funkcja wykonująca wyrównywanie histogramu cv2.equalizeHist. Jej argumentem jest obraz, którego histogram zostanie wyrównany. Zwraca natomiast obraz wynikowy. Na kolejnym rysunku wyświetl wynik funkcji, jego histogram oraz histogram skumulowany."
   ],
   "metadata": {
    "collapsed": false,
    "pycharm": {
     "name": "#%% md\n"
    }
   }
  },
  {
   "cell_type": "code",
   "execution_count": null,
   "outputs": [],
   "source": [
    "hist1 = cv2.imread('hist1.bmp', 0)\n",
    "eqImg = cv2.equalizeHist(hist1)\n",
    "eqHist = cv2.calcHist([eqImg], [0], None, [256], [0,256])\n",
    "\n",
    "fig = plt.figure(figsize=(16, 4))\n",
    "fig.add_subplot(1, 2, 1)\n",
    "plt.xticks([]), plt.yticks([])\n",
    "plt.imshow(eqImg, cmap=\"gray\")\n",
    "\n",
    "cdf = eqHist.cumsum()\n",
    "cdf_normalized = cdf * eqHist.max() / cdf.max()\n",
    "fig.add_subplot(1, 2, 2)\n",
    "plt.plot(eqHist),plt.plot(cdf_normalized)"
   ],
   "metadata": {
    "collapsed": false,
    "pycharm": {
     "name": "#%%\n"
    }
   }
  },
  {
   "cell_type": "markdown",
   "source": [
    "7. W wykorzystywanej bibliotece zaimplementowana jest również metoda adaptacyjnego wyrównywania histogramu algorytmem CLAHE (ang. *Contrast Limited Adaptive Histogram Equalization*}.\n",
    "   Kilka słów wyjaśnienia.\n",
    "   Wadą poznanej metody HE jest jej \"globalność\" rozumiana jako nieuwzględnianie lokalnych właściwości obrazu.\n",
    "   Dlatego też powstała metoda adaptacyjnego wyrównywania histogramu (AHE).\n",
    "   Jest ona spotykana w dwóch wariantach:\n",
    "   - dla każdego piksela niezależnie, w pewnym jego otoczeniu, wyznaczany jest histogram i przeprowadzane wyrównywanie.\n",
    "     Jak nietrudno się domyślić rozwiązanie jest dość kosztowne obliczeniowo.\n",
    "   - obraz wejściowy dzielony jest na nienachodzące na siebie prostokątne okna.\n",
    "     W każdym z okien obliczany jest histogram i przeprowadzane jest wyrównywanie.\n",
    "     W celu eliminacji błędów na granicy okien, stosuje się interpolację.\n",
    "\n",
    "   Metoda AHE ma jednak tą wadę, że w obszarach jednorodnych wzmacnia szum.\n",
    "   Dlatego też zaproponowano rozwiązanie CLAHE, które zakłada ograniczenie kontrastu (CL).\n",
    "   W metodzie definiuje się maksymalną wartość danego przedziału histogramu (próg ograniczenia kontrastu).\n",
    "   Piksele, które przekraczają próg są następnie równomiernie rozdzielane pomiędzy poszczególne przedziały.\n",
    "   Bardziej szczegółowy opis obu metod dostępny jest na [Wikipedii](https://en.wikipedia.org/wiki/Adaptive_histogram_equalization).\n",
    "8. W celu użycia algorytmu należy wywołać funkcję cv2.createCLAHE. - Pierwszym parametrem jest próg ograniczenia kontrastu. - Drugi parametr definiuje na ile prostokątów zostanie podzielony obraz w rzęch i kolumnach. - Zwracany jest zainicjalizowany smart pointer do klasy cv::CLAHE.\n",
    "9. 9.Aby wykonać wyrównywanie należy użyć metody apply. Jej argumentem jest obraz wejściowy. Zwracany jest obraz o zmodyfikowanym histogramie.\n",
    "10. 10.Przetestuj różne parametry algorytmu CLAHE."
   ],
   "metadata": {
    "collapsed": false,
    "pycharm": {
     "name": "#%% md\n"
    }
   }
  },
  {
   "cell_type": "code",
   "execution_count": null,
   "outputs": [],
   "source": [
    "clahe = cv2.createCLAHE(40.0, (2,2))\n",
    "res = clahe.apply(hist1)\n",
    "\n",
    "H1 = cv2.calcHist([res], [0], None, [256], [0,256])\n",
    "cdf = H1.cumsum()\n",
    "cdf_normalized = cdf * H1.max() / cdf.max()\n",
    "\n",
    "fig = plt.figure(figsize=(10,4))\n",
    "fig.add_subplot(1, 2, 1)\n",
    "plt.plot(H1), plt.plot(cdf_normalized)\n",
    "fig.add_subplot(1, 2, 2)\n",
    "plt.imshow(res, cmap=\"gray\")\n",
    "plt.axis(\"off\")\n",
    "\n",
    "clahe = cv2.createCLAHE(10.0, (4,4))\n",
    "res = clahe.apply(hist1)\n",
    "H1 = cv2.calcHist([res], [0], None, [256], [0,256])\n",
    "cdf = H1.cumsum()\n",
    "cdf_normalized = cdf * H1.max() / cdf.max()\n",
    "\n",
    "fig = plt.figure(figsize=(10,4))\n",
    "fig.add_subplot(1, 2, 1)\n",
    "plt.plot(H1), plt.plot(cdf_normalized)\n",
    "fig.add_subplot(1, 2, 2)\n",
    "plt.imshow(res, cmap=\"gray\")\n",
    "plt.axis(\"off\")\n",
    "\n",
    "clahe = cv2.createCLAHE(70.0, (1,1))\n",
    "res = clahe.apply(hist1)\n",
    "H1 = cv2.calcHist([res], [0], None, [256], [0,256])\n",
    "cdf = H1.cumsum()\n",
    "cdf_normalized = cdf * H1.max() / cdf.max()\n",
    "\n",
    "fig = plt.figure(figsize=(10,4))\n",
    "fig.add_subplot(1, 2, 1)\n",
    "plt.plot(H1), plt.plot(cdf_normalized)\n",
    "fig.add_subplot(1, 2, 2)\n",
    "plt.imshow(res, cmap=\"gray\")\n",
    "plt.axis(\"off\")"
   ],
   "metadata": {
    "collapsed": false,
    "pycharm": {
     "name": "#%%\n"
    }
   }
  },
  {
   "cell_type": "markdown",
   "source": [
    "11. W kolejnym etapie należy przetestować operacje (rozciąganie, wyrównywanie (HE) i adaptacyjne wyrównywanie CLAHE) na histogramie dla obrazów rzeczywistych. hist2.bmp, hist3.bmp, hist4.jpg. W jednym oknie wyświetl: obraz oryginalny, rozciąganie, wyrównywanie HE oraz wyrównywanie CLAHE."
   ],
   "metadata": {
    "collapsed": false,
    "pycharm": {
     "name": "#%% md\n"
    }
   }
  },
  {
   "cell_type": "code",
   "execution_count": null,
   "outputs": [],
   "source": [
    "hist = [hist2,hist3,hist4]\n",
    "for h in hist:\n",
    "    #rozciąganie\n",
    "    H = cv2.calcHist([h], [0], None, [256], [0,256])\n",
    "    norm = cv2.normalize(h, None, 0, 255, cv2.NORM_MINMAX)\n",
    "\n",
    "    # wyrównywanie HE\n",
    "    cdf = H.cumsum()\n",
    "    cdf_normalized = cdf * H.max() / cdf.max()\n",
    "    masked = np.ma.masked_equal(cdf_normalized,0)\n",
    "    masked = (masked - masked.min())*255/(masked.max() - masked.min())\n",
    "    res = np.ma.filled(masked,0).astype('uint8')\n",
    "    res_normalized = res[h]\n",
    "\n",
    "    # wyrównywanie CLAHE\n",
    "\n",
    "    clahe = cv2.createCLAHE(40.0, (2,2))\n",
    "    res = clahe.apply(h)\n",
    "\n",
    "    fig = plt.figure(figsize=(20, 20))\n",
    "    fig.add_subplot(1, 4, 1)\n",
    "    plt.yticks([]), plt.xticks([]), plt.title('original')\n",
    "    plt.imshow(h, cmap='gray', vmin=0, vmax=256)\n",
    "    fig.add_subplot(1, 4, 2)\n",
    "    plt.axis(\"off\")\n",
    "    plt.title('rozciąganie')\n",
    "    plt.imshow(norm,cmap=\"gray\",vmin=0, vmax=256)\n",
    "    fig.add_subplot(1, 4, 3)\n",
    "    plt.title('HE')\n",
    "    plt.axis(\"off\")\n",
    "    plt.imshow(res_normalized,cmap=\"gray\", vmin=0, vmax=256)\n",
    "    fig.add_subplot(1, 4, 4)\n",
    "    plt.title('CLAHE')\n",
    "    plt.imshow(res, cmap=\"gray\", vmin=0, vmax=256)\n",
    "    plt.axis(\"off\")\n",
    "    plt.show()\n"
   ],
   "metadata": {
    "collapsed": false,
    "pycharm": {
     "name": "#%%\n"
    }
   }
  },
  {
   "cell_type": "markdown",
   "source": [
    "## Histogram dla obrazów kolorowych i jego wyrównywanie\n",
    "\n",
    "1. Wczytaj obraz *lenaRGB.bmp*.\n",
    "\n",
    "\n",
    "\n",
    "\n"
   ],
   "metadata": {
    "collapsed": false,
    "pycharm": {
     "name": "#%% md\n"
    },
    "id": "C9WYAOJTcDvZ"
   }
  },
  {
   "cell_type": "code",
   "execution_count": null,
   "outputs": [],
   "source": [
    "fileName = 'lenaRGB.bmp'\n",
    "if not os.path.exists(fileName) :\n",
    "    r = requests.get(url + fileName, allow_redirects=True)\n",
    "    open(fileName, 'wb').write(r.content)\n",
    "\n",
    "fileName = 'jezioro.jpg'\n",
    "if not os.path.exists(fileName) :\n",
    "    r = requests.get(url + fileName, allow_redirects=True)\n",
    "    open(fileName, 'wb').write(r.content)"
   ],
   "metadata": {
    "pycharm": {
     "name": "#%% Zadanie 4 - histogram\n"
    },
    "id": "y5T31GV3cDvZ"
   }
  },
  {
   "cell_type": "markdown",
   "source": [
    "2. Wykonaj konwersję przestrzeni barw z BGR do RGB."
   ],
   "metadata": {
    "collapsed": false,
    "pycharm": {
     "name": "#%% md\n"
    }
   }
  },
  {
   "cell_type": "code",
   "execution_count": null,
   "outputs": [],
   "source": [
    "lenaBGR = cv2.imread('lenaRGB.bmp')\n",
    "lenaRGB = cv2.cvtColor(lenaBGR, cv2.COLOR_BGR2RGB)"
   ],
   "metadata": {
    "pycharm": {
     "name": "#%% Zadanie 4 - wyrównanie\n"
    },
    "id": "vzj4kEtOcDva"
   }
  },
  {
   "cell_type": "markdown",
   "source": [
    "3. Wyświetl wczytany obraz oraz histogram dla każdej składowej przestrzeni barw.\n",
    "W tym celu można użyć drugiego argumentu wykorzystywanej funkcji (numer kanału)."
   ],
   "metadata": {
    "pycharm": {
     "name": "#%% md\n"
    },
    "id": "sExCMbOYcDva"
   }
  },
  {
   "cell_type": "code",
   "execution_count": null,
   "outputs": [],
   "source": [
    "hist_r = cv2.calcHist([lenaRGB], [0], None, [256], [0,256])\n",
    "hist_g = cv2.calcHist([lenaRGB], [1], None, [256], [0,256])\n",
    "hist_b = cv2.calcHist([lenaRGB], [2], None, [256], [0,256])\n",
    "hist = [hist_r, hist_g, hist_b]\n",
    "\n",
    "i = 1\n",
    "fig = plt.figure(figsize=(40, 8))\n",
    "fig.add_subplot(1, 2, 1)\n",
    "plt.xticks([]), plt.yticks([])\n",
    "plt.imshow(lenaRGB)\n",
    "fig.add_subplot(1, 2, 2)\n",
    "plt.plot(hist[0]), plt.plot(hist[1]),plt.plot(hist[2]),"
   ],
   "metadata": {
    "pycharm": {
     "name": "#%% Zadanie 4 - HSV wyrównanie\n"
    },
    "id": "AGV4sG7TcDvb"
   }
  },
  {
   "cell_type": "markdown",
   "source": [
    "4. Wykonaj wyrównywanie dla każdej składowej obrazu. Połącz otrzymane składowe w nowy obraz i wyświetl go.\n",
    "Jaka jest zasadnicza wada takiego podejścia?"
   ],
   "metadata": {
    "collapsed": false,
    "pycharm": {
     "name": "#%% md\n"
    }
   }
  },
  {
   "cell_type": "code",
   "execution_count": null,
   "outputs": [],
   "source": [
    "r,g,b = cv2.split(lenaRGB)\n",
    "eq_r = cv2.equalizeHist(r)\n",
    "eq_g = cv2.equalizeHist(g)\n",
    "eq_b = cv2.equalizeHist(b)\n",
    "eq = cv2.merge((eq_r, eq_g, eq_b))\n",
    "\n",
    "hist_r = cv2.calcHist([eq], [0], None, [256], [0,256])\n",
    "hist_g = cv2.calcHist([eq], [1], None, [256], [0,256])\n",
    "hist_b = cv2.calcHist([eq], [2], None, [256], [0,256])\n",
    "\n",
    "fig = plt.figure(figsize=(16, 4))\n",
    "fig.add_subplot(1, 2, 1)\n",
    "plt.xticks([]), plt.yticks([])\n",
    "plt.imshow(eq)\n",
    "fig.add_subplot(1, 2, 2)\n",
    "plt.plot(hist_r), plt.plot(hist_g), plt.plot(hist_b)"
   ],
   "metadata": {
    "collapsed": false,
    "pycharm": {
     "name": "#%%\n"
    }
   }
  },
  {
   "cell_type": "markdown",
   "source": [
    "5. Przekształć obraz wejściowy do przestrzeni HSV (flaga `cv2.COLOR_BGR2HSV`).\n",
    "Wyświetl histogramy poszczególnych składowych."
   ],
   "metadata": {
    "collapsed": false,
    "pycharm": {
     "name": "#%% md\n"
    }
   }
  },
  {
   "cell_type": "code",
   "execution_count": null,
   "outputs": [],
   "source": [
    "lenaHSV = cv2.cvtColor(lenaBGR, cv2.COLOR_BGR2HSV)\n",
    "\n",
    "fig_I, axsH_I = plt.subplots(1, 2)\n",
    "fig_I.set_size_inches(16, 4)\n",
    "axsH_I[0].imshow(lenaHSV)\n",
    "axsH_I[0].axis('off')\n",
    "\n",
    "for i in range(0,3):\n",
    "    hist = cv2.calcHist([lenaHSV], [i], None, [256], [0,256])\n",
    "    axsH_I[1].plot(hist)"
   ],
   "metadata": {
    "collapsed": false,
    "pycharm": {
     "name": "#%%\n"
    }
   }
  },
  {
   "cell_type": "code",
   "execution_count": null,
   "outputs": [],
   "source": [
    "h,s,v = cv2.split(lenaHSV)\n",
    "eq_v = cv2.equalizeHist(v)\n",
    "hsv = cv2.merge((h, s, eq_v))\n",
    "res = cv2.cvtColor(hsv, cv2.COLOR_HSV2RGB)"
   ],
   "metadata": {
    "collapsed": false,
    "pycharm": {
     "name": "#%%\n"
    }
   }
  },
  {
   "cell_type": "code",
   "execution_count": null,
   "outputs": [],
   "source": [
    "fig_I, axsH_I = plt.subplots(1, 2)\n",
    "fig_I.set_size_inches(16, 4)\n",
    "axsH_I[0].imshow(res)\n",
    "axsH_I[0].axis('off')\n",
    "\n",
    "for i in range(0,3):\n",
    "    hist = cv2.calcHist([res], [i], None, [256], [0,256])\n",
    "    axsH_I[1].plot(hist)"
   ],
   "metadata": {
    "collapsed": false,
    "pycharm": {
     "name": "#%%\n"
    }
   }
  },
  {
   "cell_type": "markdown",
   "source": [
    "6. Wykonaj te same operacje dla obrazu *jezioro.jpg*."
   ],
   "metadata": {
    "collapsed": false,
    "pycharm": {
     "name": "#%% md\n"
    }
   }
  },
  {
   "cell_type": "code",
   "execution_count": null,
   "outputs": [],
   "source": [
    "jezioro = cv2.imread('jezioro.jpg')\n",
    "jezioroRGB = cv2.cvtColor(jezioro, cv2.COLOR_BGR2RGB)\n",
    "\n",
    "fig_I, axsH_I = plt.subplots(1, 2)\n",
    "fig_I.set_size_inches(16, 4)\n",
    "axsH_I[0].imshow(jezioroRGB)\n",
    "axsH_I[0].axis('off')\n",
    "\n",
    "for i in range(0,3):\n",
    "    hist = cv2.calcHist([jezioroRGB], [i], None, [256], [0,256])\n",
    "    axsH_I[1].plot(hist)"
   ],
   "metadata": {
    "collapsed": false,
    "pycharm": {
     "name": "#%%\n"
    }
   }
  },
  {
   "cell_type": "code",
   "execution_count": null,
   "outputs": [],
   "source": [
    "r,g,b = cv2.split(jezioroRGB)\n",
    "eq_r = cv2.equalizeHist(r)\n",
    "eq_g = cv2.equalizeHist(g)\n",
    "eq_b = cv2.equalizeHist(b)\n",
    "eq = cv2.merge((eq_r, eq_g, eq_b))\n",
    "\n",
    "fig_I, axsH_I = plt.subplots(1, 2)\n",
    "fig_I.set_size_inches(16, 4)\n",
    "axsH_I[0].imshow(eq)\n",
    "axsH_I[0].axis('off')\n",
    "\n",
    "for i in range(0,3):\n",
    "    hist = cv2.calcHist([eq], [i], None, [256], [0,256])\n",
    "    axsH_I[1].plot(hist)"
   ],
   "metadata": {
    "collapsed": false,
    "pycharm": {
     "name": "#%%\n"
    }
   }
  },
  {
   "cell_type": "code",
   "execution_count": null,
   "outputs": [],
   "source": [
    "jezioroHSV = cv2.cvtColor(jezioroRGB, cv2.COLOR_BGR2HSV)\n",
    "\n",
    "fig_I, axsH_I = plt.subplots(1, 2)\n",
    "fig_I.set_size_inches(16, 4)\n",
    "axsH_I[0].imshow(jezioroHSV)\n",
    "axsH_I[0].axis('off')\n",
    "\n",
    "for i in range(0,3):\n",
    "    hist = cv2.calcHist([jezioroHSV], [i], None, [256], [0,256])\n",
    "    axsH_I[1].plot(hist)"
   ],
   "metadata": {
    "collapsed": false,
    "pycharm": {
     "name": "#%%\n"
    }
   }
  },
  {
   "cell_type": "code",
   "execution_count": null,
   "outputs": [],
   "source": [
    "h,s,v = cv2.split(jezioroHSV)\n",
    "eq_v = cv2.equalizeHist(v)\n",
    "hsv = cv2.merge((h, s, eq_v))\n",
    "res = cv2.cvtColor(hsv, cv2.COLOR_HSV2RGB)\n",
    "\n",
    "fig_I, axsH_I = plt.subplots(1, 2)\n",
    "fig_I.set_size_inches(16, 4)\n",
    "axsH_I[0].imshow(res)\n",
    "axsH_I[0].axis('off')\n",
    "\n",
    "for i in range(0,3):\n",
    "    hist = cv2.calcHist([res], [i], None, [256], [0,256])\n",
    "    axsH_I[1].plot(hist)"
   ],
   "metadata": {
    "collapsed": false,
    "pycharm": {
     "name": "#%%\n"
    }
   }
  },
  {
   "cell_type": "code",
   "execution_count": null,
   "outputs": [],
   "source": [],
   "metadata": {
    "collapsed": false,
    "pycharm": {
     "name": "#%%\n"
    }
   }
  }
 ],
 "metadata": {
  "kernelspec": {
   "display_name": "Python 3",
   "language": "python",
   "name": "python3"
  },
  "language_info": {
   "codemirror_mode": {
    "name": "ipython",
    "version": 3
   },
   "file_extension": ".py",
   "mimetype": "text/x-python",
   "name": "python",
   "nbconvert_exporter": "python",
   "pygments_lexer": "ipython3",
   "version": "3.8.3"
  },
  "colab": {
   "provenance": [],
   "collapsed_sections": []
  }
 },
 "nbformat": 4,
 "nbformat_minor": 0
}