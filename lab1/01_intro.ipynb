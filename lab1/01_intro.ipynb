{
 "cells": [
  {
   "cell_type": "markdown",
   "metadata": {
    "id": "7vMPJPonERJg"
   },
   "source": [
    "W ramach kursu będziemy wykorzystywać głównie bibliotekę OpenCV (Open Computer Vision Library).\n",
    "W trakcie niniejszego ćwiczenia zapoznamy się z podstawowymi funkcjonalnościami: wczytaniami, zapisywaniem, konwersją do inne przestrzeni barw.\n",
    "Zaznajomimy się również z Jupyter Notebook."
   ]
  },
  {
   "cell_type": "markdown",
   "metadata": {
    "id": "e4zAaB1sERJi"
   },
   "source": [
    "Wczytywanie obrazów z wykorzystaniem OpenCV.\n",
    "1. Zaimportuj bibliotekę OpenCV:\n",
    "        `import cv2`\n",
    "1. Zaimportuj bibliotekę pyplot z matplotlib jako plt:\n",
    "        `from matplotlib import pyplot as plt`\n",
    "1. Wygodną opcją jest możliwość pobierania danych (obrazów, ale też np. baz danych) z sieci.\n",
    "   Eliminuje to konieczność pobierania danych np. z Moodle oraz czyni uzupełniony Notebook \"samowystarczalnym\" - wystarczy go uruchomić.\n",
    "   * zaimportuj bibliotekę os `import os`\n",
    "   * zaimportuj bibliotekę request `import requests`\n",
    "   * stwórz zmienne na adres pobieranego pliku (*url*) i samą jego nazwę (*fileName*)\n",
    "   * sprawdź, czy taki plik istnieje (unikniemy wielokrotnego pobierania tych samych danych)\n",
    "        `if not os.path.exists(fileName) :`\n",
    "   * pobierz plik: `r = requests.get(url + fileName, allow_redirects=True)`\n",
    "   * zapisz na dysku: `open(fileName, 'wb').write(r.content)`\n",
    "\n",
    "1. Wykorzystując polecenie *imread* wczytaj obraz *mandril.jpg*\n",
    "1. Wyświetl obraz wykorzystując bibliotekę *pyplot*\n",
    "        plt.imshow(I)\n",
    "        plt.xticks([]), plt.yticks([])\n",
    "        plt.show()\n",
    "1. Jeśli ktoś nie wie jak powinien wyglądać mandryl, to proszę podglądnąć obraz na GitHub lub w sprawdzić w Interencie.\n",
    "   Przyczyną problemu jest sposób w jaki funkcja `imread` z OpenCV odczytuje obraz (BGR, zamiast RGB).\n",
    "   Obrazom kolorowym będzie poświęcone odrębne ćwiczenie, także nie będziemy w tym miejscu rozwijać tego wątku.\n",
    "1. W celu poprawnego wyświetlenia należy dokonać konwersji koloru z BGR na RGB.\n",
    "        I = cv2.cvtColor(I, cv2.COLOR_BGR2RGB)\n",
    "1. Dla porządku warto dodać, że w OpenCV do wyświetlania domyślnie wykorzystuje się funkcję `imshow`.\n",
    "   Jednakże w przypadku Jupyter Notebook to rozwiązanie ma pewne wady i dlatego nie będziemy jej używać.\n",
    "   Natomiast jeśli ktoś pracuje w \"czystym\" Python, to jest to na pewno równoważna funkcjonalność.\n"
   ]
  },
  {
   "cell_type": "code",
   "execution_count": 1,
   "metadata": {
    "id": "iALBqN0tERJj"
   },
   "outputs": [
    {
     "ename": "KeyboardInterrupt",
     "evalue": "",
     "output_type": "error",
     "traceback": [
      "\u001B[1;31m---------------------------------------------------------------------------\u001B[0m",
      "\u001B[1;31mKeyboardInterrupt\u001B[0m                         Traceback (most recent call last)",
      "Input \u001B[1;32mIn [1]\u001B[0m, in \u001B[0;36m<cell line: 1>\u001B[1;34m()\u001B[0m\n\u001B[1;32m----> 1\u001B[0m \u001B[38;5;28;01mimport\u001B[39;00m \u001B[38;5;21;01mcv2\u001B[39;00m\n\u001B[0;32m      2\u001B[0m \u001B[38;5;28;01mimport\u001B[39;00m \u001B[38;5;21;01mos\u001B[39;00m\n\u001B[0;32m      3\u001B[0m \u001B[38;5;28;01mfrom\u001B[39;00m \u001B[38;5;21;01mmatplotlib\u001B[39;00m \u001B[38;5;28;01mimport\u001B[39;00m pyplot \u001B[38;5;28;01mas\u001B[39;00m plt\n",
      "File \u001B[1;32m~\\AppData\\Local\\Programs\\Python\\Python39\\lib\\site-packages\\cv2\\__init__.py:11\u001B[0m, in \u001B[0;36m<module>\u001B[1;34m\u001B[0m\n\u001B[0;32m      8\u001B[0m __all__ \u001B[38;5;241m=\u001B[39m []\n\u001B[0;32m     10\u001B[0m \u001B[38;5;28;01mtry\u001B[39;00m:\n\u001B[1;32m---> 11\u001B[0m     \u001B[38;5;28;01mimport\u001B[39;00m \u001B[38;5;21;01mnumpy\u001B[39;00m\n\u001B[0;32m     12\u001B[0m     \u001B[38;5;28;01mimport\u001B[39;00m \u001B[38;5;21;01mnumpy\u001B[39;00m\u001B[38;5;21;01m.\u001B[39;00m\u001B[38;5;21;01mcore\u001B[39;00m\u001B[38;5;21;01m.\u001B[39;00m\u001B[38;5;21;01mmultiarray\u001B[39;00m\n\u001B[0;32m     13\u001B[0m \u001B[38;5;28;01mexcept\u001B[39;00m \u001B[38;5;167;01mImportError\u001B[39;00m:\n",
      "File \u001B[1;32m~\\AppData\\Local\\Programs\\Python\\Python39\\lib\\site-packages\\numpy\\__init__.py:229\u001B[0m, in \u001B[0;36m<module>\u001B[1;34m\u001B[0m\n\u001B[0;32m    227\u001B[0m \u001B[38;5;28;01mfrom\u001B[39;00m \u001B[38;5;21;01m.\u001B[39;00m\u001B[38;5;21;01mcore\u001B[39;00m \u001B[38;5;28;01mimport\u001B[39;00m \u001B[38;5;28mround\u001B[39m, \u001B[38;5;28mabs\u001B[39m, \u001B[38;5;28mmax\u001B[39m, \u001B[38;5;28mmin\u001B[39m\n\u001B[0;32m    228\u001B[0m \u001B[38;5;66;03m# now that numpy modules are imported, can initialize limits\u001B[39;00m\n\u001B[1;32m--> 229\u001B[0m \u001B[43mcore\u001B[49m\u001B[38;5;241;43m.\u001B[39;49m\u001B[43mgetlimits\u001B[49m\u001B[38;5;241;43m.\u001B[39;49m\u001B[43m_register_known_types\u001B[49m\u001B[43m(\u001B[49m\u001B[43m)\u001B[49m\n\u001B[0;32m    231\u001B[0m __all__\u001B[38;5;241m.\u001B[39mextend([\u001B[38;5;124m'\u001B[39m\u001B[38;5;124m__version__\u001B[39m\u001B[38;5;124m'\u001B[39m, \u001B[38;5;124m'\u001B[39m\u001B[38;5;124mshow_config\u001B[39m\u001B[38;5;124m'\u001B[39m])\n\u001B[0;32m    232\u001B[0m __all__\u001B[38;5;241m.\u001B[39mextend(core\u001B[38;5;241m.\u001B[39m__all__)\n",
      "File \u001B[1;32m~\\AppData\\Local\\Programs\\Python\\Python39\\lib\\site-packages\\numpy\\core\\getlimits.py:202\u001B[0m, in \u001B[0;36m_register_known_types\u001B[1;34m()\u001B[0m\n\u001B[0;32m    200\u001B[0m epsneg_f64 \u001B[38;5;241m=\u001B[39m \u001B[38;5;241m2.0\u001B[39m \u001B[38;5;241m*\u001B[39m\u001B[38;5;241m*\u001B[39m \u001B[38;5;241m-\u001B[39m\u001B[38;5;241m53.0\u001B[39m\n\u001B[0;32m    201\u001B[0m tiny_f64 \u001B[38;5;241m=\u001B[39m \u001B[38;5;241m2.0\u001B[39m \u001B[38;5;241m*\u001B[39m\u001B[38;5;241m*\u001B[39m \u001B[38;5;241m-\u001B[39m\u001B[38;5;241m1022.0\u001B[39m\n\u001B[1;32m--> 202\u001B[0m float64_ma \u001B[38;5;241m=\u001B[39m \u001B[43mMachArLike\u001B[49m\u001B[43m(\u001B[49m\u001B[43mf64\u001B[49m\u001B[43m,\u001B[49m\n\u001B[0;32m    203\u001B[0m \u001B[43m                        \u001B[49m\u001B[43mmachep\u001B[49m\u001B[38;5;241;43m=\u001B[39;49m\u001B[38;5;241;43m-\u001B[39;49m\u001B[38;5;241;43m52\u001B[39;49m\u001B[43m,\u001B[49m\n\u001B[0;32m    204\u001B[0m \u001B[43m                        \u001B[49m\u001B[43mnegep\u001B[49m\u001B[38;5;241;43m=\u001B[39;49m\u001B[38;5;241;43m-\u001B[39;49m\u001B[38;5;241;43m53\u001B[39;49m\u001B[43m,\u001B[49m\n\u001B[0;32m    205\u001B[0m \u001B[43m                        \u001B[49m\u001B[43mminexp\u001B[49m\u001B[38;5;241;43m=\u001B[39;49m\u001B[38;5;241;43m-\u001B[39;49m\u001B[38;5;241;43m1022\u001B[39;49m\u001B[43m,\u001B[49m\n\u001B[0;32m    206\u001B[0m \u001B[43m                        \u001B[49m\u001B[43mmaxexp\u001B[49m\u001B[38;5;241;43m=\u001B[39;49m\u001B[38;5;241;43m1024\u001B[39;49m\u001B[43m,\u001B[49m\n\u001B[0;32m    207\u001B[0m \u001B[43m                        \u001B[49m\u001B[43mit\u001B[49m\u001B[38;5;241;43m=\u001B[39;49m\u001B[38;5;241;43m52\u001B[39;49m\u001B[43m,\u001B[49m\n\u001B[0;32m    208\u001B[0m \u001B[43m                        \u001B[49m\u001B[43miexp\u001B[49m\u001B[38;5;241;43m=\u001B[39;49m\u001B[38;5;241;43m11\u001B[39;49m\u001B[43m,\u001B[49m\n\u001B[0;32m    209\u001B[0m \u001B[43m                        \u001B[49m\u001B[43mibeta\u001B[49m\u001B[38;5;241;43m=\u001B[39;49m\u001B[38;5;241;43m2\u001B[39;49m\u001B[43m,\u001B[49m\n\u001B[0;32m    210\u001B[0m \u001B[43m                        \u001B[49m\u001B[43mirnd\u001B[49m\u001B[38;5;241;43m=\u001B[39;49m\u001B[38;5;241;43m5\u001B[39;49m\u001B[43m,\u001B[49m\n\u001B[0;32m    211\u001B[0m \u001B[43m                        \u001B[49m\u001B[43mngrd\u001B[49m\u001B[38;5;241;43m=\u001B[39;49m\u001B[38;5;241;43m0\u001B[39;49m\u001B[43m,\u001B[49m\n\u001B[0;32m    212\u001B[0m \u001B[43m                        \u001B[49m\u001B[43meps\u001B[49m\u001B[38;5;241;43m=\u001B[39;49m\u001B[38;5;241;43m2.0\u001B[39;49m\u001B[43m \u001B[49m\u001B[38;5;241;43m*\u001B[39;49m\u001B[38;5;241;43m*\u001B[39;49m\u001B[43m \u001B[49m\u001B[38;5;241;43m-\u001B[39;49m\u001B[38;5;241;43m52.0\u001B[39;49m\u001B[43m,\u001B[49m\n\u001B[0;32m    213\u001B[0m \u001B[43m                        \u001B[49m\u001B[43mepsneg\u001B[49m\u001B[38;5;241;43m=\u001B[39;49m\u001B[43mepsneg_f64\u001B[49m\u001B[43m,\u001B[49m\n\u001B[0;32m    214\u001B[0m \u001B[43m                        \u001B[49m\u001B[43mhuge\u001B[49m\u001B[38;5;241;43m=\u001B[39;49m\u001B[43m(\u001B[49m\u001B[38;5;241;43m1.0\u001B[39;49m\u001B[43m \u001B[49m\u001B[38;5;241;43m-\u001B[39;49m\u001B[43m \u001B[49m\u001B[43mepsneg_f64\u001B[49m\u001B[43m)\u001B[49m\u001B[43m \u001B[49m\u001B[38;5;241;43m/\u001B[39;49m\u001B[43m \u001B[49m\u001B[43mtiny_f64\u001B[49m\u001B[43m \u001B[49m\u001B[38;5;241;43m*\u001B[39;49m\u001B[43m \u001B[49m\u001B[43mf64\u001B[49m\u001B[43m(\u001B[49m\u001B[38;5;241;43m4\u001B[39;49m\u001B[43m)\u001B[49m\u001B[43m,\u001B[49m\n\u001B[0;32m    215\u001B[0m \u001B[43m                        \u001B[49m\u001B[43mtiny\u001B[49m\u001B[38;5;241;43m=\u001B[39;49m\u001B[43mtiny_f64\u001B[49m\u001B[43m)\u001B[49m\n\u001B[0;32m    216\u001B[0m _register_type(float64_ma, \u001B[38;5;124mb\u001B[39m\u001B[38;5;124m'\u001B[39m\u001B[38;5;130;01m\\x9a\u001B[39;00m\u001B[38;5;130;01m\\x99\u001B[39;00m\u001B[38;5;130;01m\\x99\u001B[39;00m\u001B[38;5;130;01m\\x99\u001B[39;00m\u001B[38;5;130;01m\\x99\u001B[39;00m\u001B[38;5;130;01m\\x99\u001B[39;00m\u001B[38;5;130;01m\\xb9\u001B[39;00m\u001B[38;5;130;01m\\xbf\u001B[39;00m\u001B[38;5;124m'\u001B[39m)\n\u001B[0;32m    217\u001B[0m _float_ma[\u001B[38;5;241m64\u001B[39m] \u001B[38;5;241m=\u001B[39m float64_ma\n",
      "File \u001B[1;32m~\\AppData\\Local\\Programs\\Python\\Python39\\lib\\site-packages\\numpy\\core\\getlimits.py:45\u001B[0m, in \u001B[0;36mMachArLike.__init__\u001B[1;34m(self, ftype, eps, epsneg, huge, tiny, ibeta, smallest_subnormal, **kwargs)\u001B[0m\n\u001B[0;32m     43\u001B[0m \u001B[38;5;28;01melse\u001B[39;00m:\n\u001B[0;32m     44\u001B[0m     \u001B[38;5;28mself\u001B[39m\u001B[38;5;241m.\u001B[39m_smallest_subnormal \u001B[38;5;241m=\u001B[39m smallest_subnormal\n\u001B[1;32m---> 45\u001B[0m \u001B[38;5;28mself\u001B[39m\u001B[38;5;241m.\u001B[39mepsilon \u001B[38;5;241m=\u001B[39m \u001B[38;5;28mself\u001B[39m\u001B[38;5;241m.\u001B[39meps \u001B[38;5;241m=\u001B[39m \u001B[38;5;28;43mself\u001B[39;49m\u001B[38;5;241;43m.\u001B[39;49m\u001B[43m_float_to_float\u001B[49m\u001B[43m(\u001B[49m\u001B[43meps\u001B[49m\u001B[43m)\u001B[49m\n\u001B[0;32m     46\u001B[0m \u001B[38;5;28mself\u001B[39m\u001B[38;5;241m.\u001B[39mepsneg \u001B[38;5;241m=\u001B[39m \u001B[38;5;28mself\u001B[39m\u001B[38;5;241m.\u001B[39m_float_to_float(epsneg)\n\u001B[0;32m     47\u001B[0m \u001B[38;5;28mself\u001B[39m\u001B[38;5;241m.\u001B[39mxmax \u001B[38;5;241m=\u001B[39m \u001B[38;5;28mself\u001B[39m\u001B[38;5;241m.\u001B[39mhuge \u001B[38;5;241m=\u001B[39m \u001B[38;5;28mself\u001B[39m\u001B[38;5;241m.\u001B[39m_float_to_float(huge)\n",
      "File \u001B[1;32m~\\AppData\\Local\\Programs\\Python\\Python39\\lib\\site-packages\\numpy\\core\\getlimits.py:99\u001B[0m, in \u001B[0;36mMachArLike._float_to_float\u001B[1;34m(self, value)\u001B[0m\n\u001B[0;32m     91\u001B[0m \u001B[38;5;28;01mdef\u001B[39;00m \u001B[38;5;21m_float_to_float\u001B[39m(\u001B[38;5;28mself\u001B[39m, value):\n\u001B[0;32m     92\u001B[0m     \u001B[38;5;124;03m\"\"\"Converts float to float.\u001B[39;00m\n\u001B[0;32m     93\u001B[0m \n\u001B[0;32m     94\u001B[0m \u001B[38;5;124;03m    Parameters\u001B[39;00m\n\u001B[1;32m   (...)\u001B[0m\n\u001B[0;32m     97\u001B[0m \u001B[38;5;124;03m        value to be converted.\u001B[39;00m\n\u001B[0;32m     98\u001B[0m \u001B[38;5;124;03m    \"\"\"\u001B[39;00m\n\u001B[1;32m---> 99\u001B[0m     \u001B[38;5;28;01mreturn\u001B[39;00m \u001B[43m_fr1\u001B[49m\u001B[43m(\u001B[49m\u001B[38;5;28;43mself\u001B[39;49m\u001B[38;5;241;43m.\u001B[39;49m\u001B[43m_float_conv\u001B[49m\u001B[43m(\u001B[49m\u001B[43mvalue\u001B[49m\u001B[43m)\u001B[49m\u001B[43m)\u001B[49m\n",
      "File \u001B[1;32m~\\AppData\\Local\\Programs\\Python\\Python39\\lib\\site-packages\\numpy\\core\\getlimits.py:27\u001B[0m, in \u001B[0;36m_fr1\u001B[1;34m(a)\u001B[0m\n\u001B[0;32m     25\u001B[0m \u001B[38;5;124;03m\"\"\"fix rank > 0 --> rank-0\"\"\"\u001B[39;00m\n\u001B[0;32m     26\u001B[0m \u001B[38;5;28;01mif\u001B[39;00m a\u001B[38;5;241m.\u001B[39msize \u001B[38;5;241m==\u001B[39m \u001B[38;5;241m1\u001B[39m:\n\u001B[1;32m---> 27\u001B[0m     a \u001B[38;5;241m=\u001B[39m \u001B[43ma\u001B[49m\u001B[38;5;241;43m.\u001B[39;49m\u001B[43mcopy\u001B[49m\u001B[43m(\u001B[49m\u001B[43m)\u001B[49m\n\u001B[0;32m     28\u001B[0m     a\u001B[38;5;241m.\u001B[39mshape \u001B[38;5;241m=\u001B[39m ()\n\u001B[0;32m     29\u001B[0m \u001B[38;5;28;01mreturn\u001B[39;00m a\n",
      "\u001B[1;31mKeyboardInterrupt\u001B[0m: "
     ]
    }
   ],
   "source": [
    "import cv2\n",
    "import os\n",
    "from matplotlib import pyplot as plt\n",
    "import requests\n",
    "\n",
    "url = 'https://raw.githubusercontent.com/vision-agh/poc_sw/master/01_Intro/'\n",
    "fileName = 'mandril.jpg'\n",
    "if not os.path.exists(fileName) :\n",
    "    r = requests.get(url + fileName, allow_redirects=True)\n",
    "    open(fileName, 'wb').write(r.content)"
   ]
  },
  {
   "cell_type": "code",
   "execution_count": null,
   "metadata": {},
   "outputs": [],
   "source": [
    "I = cv2.imread(fileName)\n",
    "I = cv2.cvtColor(I, cv2.COLOR_BGR2RGB)\n",
    "plt.imshow(I) \n",
    "plt.xticks([]), plt.yticks([]) \n",
    "plt.show()"
   ]
  },
  {
   "cell_type": "markdown",
   "metadata": {
    "id": "Rn0dnRNmERJk"
   },
   "source": [
    "W praktycznych rozważaniach często analizuje się obrazy w odcieniach szarości (ang. *grayscale*).\n",
    "Do konwersji służy znana już funkcja `cvtColor` tylko tym razem z parametrem `cv2.COLOR_RGB2GRAY`.\n",
    "Proszę spróbować wyświetlić obraz.\n",
    "Może okazać się, że nadal jest kolorowy, choć inaczej.\n",
    "Dlaczego tak się dzieje zostanie obszerniej wyjaśnione pod koniec ćwiczenia.\n",
    "Na razie należy dodać polecenie `plt.gray()` przed `plt.show`.\n"
   ]
  },
  {
   "cell_type": "code",
   "execution_count": null,
   "metadata": {
    "id": "Ce3D-FtUERJk"
   },
   "outputs": [],
   "source": [
    "I = cv2.imread(fileName)\n",
    "I = cv2.cvtColor(I, cv2.COLOR_RGB2GRAY)\n",
    "plt.imshow(I) \n",
    "plt.xticks([]), plt.yticks([]) \n",
    "plt.gray()\n",
    "plt.show()"
   ]
  },
  {
   "cell_type": "markdown",
   "metadata": {
    "id": "K-gRi3RiERJk"
   },
   "source": [
    "Czasami konieczne jest zapisanie przetworzonego obrazu.\n",
    "Służy do tego funkcja `cv2.imwrite`.\n",
    "Proszę zapisać szarą wersję mandryla w formacie *png*.\n",
    "Warto sprawdzić, czy obraz zapisał się poprawnie tj. otworzyć go w aplikacji do przeglądania obrazów."
   ]
  },
  {
   "cell_type": "code",
   "execution_count": null,
   "metadata": {
    "id": "gTW57GK_ERJl"
   },
   "outputs": [],
   "source": [
    "cv2.imwrite('mandril.png', I)"
   ]
  },
  {
   "cell_type": "markdown",
   "metadata": {
    "id": "JgUzYIefERJl"
   },
   "source": [
    "Obraz w skali szarości możemy traktować jako dwuwymiarową funkcję $L(x,y)$, gdzie $x$, $y$ to współrzędne piksela, a $L(x,y)$ poziom jasności (najczęściej [0;255] - zapis na 8-bitach, typ *unsigned int*).\n",
    "Wyświetl obraz mandryl jako funkcję dwuwymiarową (uwaga - to chwilę się liczy):\n"
   ]
  },
  {
   "cell_type": "code",
   "execution_count": null,
   "metadata": {
    "id": "ySHP0mkoERJl"
   },
   "outputs": [],
   "source": [
    "import numpy as np\n",
    "\n",
    "# create grid\n",
    "xx, yy = np.mgrid[0:I.shape[0], 0:I.shape[1]]\n",
    "\n",
    "# create the figure\n",
    "fig = plt.figure()\n",
    "ax = fig.gca(projection='3d')\n",
    "ax.plot_surface(xx, yy, I ,rstride=1, cstride=1, cmap=plt.get_cmap('gray'),\n",
    "        linewidth=0)\n",
    "\n",
    "# show it\n",
    "plt.show()"
   ]
  },
  {
   "cell_type": "markdown",
   "metadata": {
    "id": "Gbw8EhryERJn",
    "pycharm": {
     "name": "#%% md\n"
    }
   },
   "source": [
    "Komentarz:\n",
    "- używamy biblioteki do obliczeń *numpy*,\n",
    "- tworzymy siatkę punktów o rozmiarach takich jak obraz (*shape*),\n",
    "- rysujemy wykres 3D\n"
   ]
  },
  {
   "cell_type": "markdown",
   "metadata": {
    "id": "-BUuROqKERJn"
   },
   "source": [
    "Podczas przetwarzania i analizy obrazów przydatne bywają \"przekroje\" przez obraz, czyli wartości funkcji $L(x,y)$ w przypadku gdy $x$ lub $y$ jest ustalone.\n",
    "Wykonaj jeden wybrany przekrój w $x$ i $y$:\n",
    "- po pierwsze należy pobrać dany wiersz lub kolumnę - np. `S = IG[10,:]` (tu jedenasty wiersz),\n",
    "- po drugie stworzyć wykres złożony z dwóch subwykresów: `f, (ax1,ax2) = plt.subplots(1,2)`\n",
    "- dla każdego z nich ustawić tytuł (np. `ax1.set_title('XXX')`) oraz treść `ax1.plot(S)`,\n",
    "- na koniec całość wyświetlić `plt.show()`.\n",
    "\n",
    "\n",
    "\n",
    "\n"
   ]
  },
  {
   "cell_type": "code",
   "execution_count": null,
   "metadata": {
    "id": "U9MGTP9kERJn"
   },
   "outputs": [],
   "source": [
    "S = I[8,:]\n",
    "Sy = I[:, 4]\n",
    "f, (ax1,ax2) = plt.subplots(1,2)\n",
    "ax1.set_title('X')\n",
    "ax2.set_title('Y')\n",
    "ax1.plot(S)\n",
    "ax2.plot(Sy)\n",
    "plt.show()"
   ]
  },
  {
   "cell_type": "markdown",
   "metadata": {
    "id": "-vW-BZ4KERJn"
   },
   "source": [
    "Obrazy indeksowane składają się z dwóch macierzy - obrazu oraz tzw. mapy kolorów. \n",
    "W macierzy obrazu zapisane są wartości poszczególnych pikseli. \n",
    "Macierz mapy kolorów ma rozmiar $m \\times 3$ ($m$ wierszy, w~każdym 3 wartości - składowe R,G,B).\n",
    "Podczas wyświetlania, na podstawie wartości piksela, odczytywany jest kolor z macierzy mapy kolorów.\n",
    "W ten sposób możliwe staje się \"pokolorowanie\" obrazu w skali szarości (stąd wcześniej szary mandryl był kolorowy).\n",
    "Wykorzystanie pseudokoloru nie wpływa na ilość informacji zawartej na obrazku, pomaga jedynie przedstawić go w bardziej czytelnej (dla człowieka) formie.\n",
    "Przykładowo można uzyskać poprawę kontrastu, co jest ważne przy analizie np. obrazów medycznych.\n",
    "Bardziej obszerny opis i spis dostępnym map można znaleźć w [dokumentacji.](https://matplotlib.org/3.1.0/tutorials/colors/colormaps.html)\n",
    "\n",
    "Wykorzystując dokumentację oraz polecenie `plt.imshow(IG, cmap=plt.get_cmap('XXX'))` proszę wyświetlić obraz madryl w 4 różnych mapach kolorów.\n"
   ]
  },
  {
   "cell_type": "code",
   "execution_count": null,
   "metadata": {
    "id": "BhRKzDNkERJo"
   },
   "outputs": [],
   "source": [
    "plt.imshow(I, cmap=plt.get_cmap('YlOrRd'))"
   ]
  },
  {
   "cell_type": "code",
   "execution_count": null,
   "metadata": {},
   "outputs": [],
   "source": [
    "plt.imshow(I, cmap=plt.get_cmap('seismic'))"
   ]
  },
  {
   "cell_type": "code",
   "execution_count": null,
   "metadata": {
    "id": "JMUuHovtERJn"
   },
   "outputs": [],
   "source": [
    "plt.imshow(I, cmap=plt.get_cmap('twilight'))"
   ]
  },
  {
   "cell_type": "code",
   "execution_count": null,
   "metadata": {
    "pycharm": {
     "name": "#%%\n"
    }
   },
   "outputs": [],
   "source": [
    "plt.imshow(I, cmap=plt.get_cmap('Pastel1'))"
   ]
  }
 ],
 "metadata": {
  "colab": {
   "collapsed_sections": [],
   "provenance": []
  },
  "kernelspec": {
   "display_name": "Python 3 (ipykernel)",
   "language": "python",
   "name": "python3"
  },
  "language_info": {
   "codemirror_mode": {
    "name": "ipython",
    "version": 3
   },
   "file_extension": ".py",
   "mimetype": "text/x-python",
   "name": "python",
   "nbconvert_exporter": "python",
   "pygments_lexer": "ipython3",
   "version": "3.10.6"
  }
 },
 "nbformat": 4,
 "nbformat_minor": 1
}